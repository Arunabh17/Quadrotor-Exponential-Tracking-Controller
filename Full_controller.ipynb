{
 "cells": [
  {
   "cell_type": "code",
   "execution_count": 196,
   "metadata": {},
   "outputs": [],
   "source": [
    "import numpy as np\n",
    "import math\n",
    "import matplotlib.pyplot as plt\n",
    "time_step = 0.05\n",
    "#currently tracks to point (2,1,1)\n",
    "J = np.array([[1.0,0.0,0.0],[0.0,1.0,0.0],[0.0,0.0,1.0]]) #inertia tensor\n",
    "L = np.array([[1.0,0.0,0.0],[0.0,1.0,0.0],[0.0,0.0,1.0]]) #lambda parameter\n",
    "K = 2*np.array([[1.0,0.0,0.0],[0.0,1.0,0.0],[0.0,0.0,1.0]]) #gain parameter"
   ]
  },
  {
   "cell_type": "markdown",
   "metadata": {},
   "source": [
    "position trajectory functions "
   ]
  },
  {
   "cell_type": "code",
   "execution_count": 197,
   "metadata": {},
   "outputs": [],
   "source": [
    "def x_pos(t,x):\n",
    "    return np.array([x[1], 4.0 - 3*x[1] - 2*x[0]])\n",
    "\n",
    "def y_pos(t,y):\n",
    "    return np.array([y[1], 2.0 - 3*y[1] - 2*y[0]])\n",
    "\n",
    "def z_pos(t,z):\n",
    "    return np.array([z[1], 2.0 - 3*z[1] - 2*z[0]])"
   ]
  },
  {
   "cell_type": "code",
   "execution_count": 198,
   "metadata": {},
   "outputs": [],
   "source": [
    "#rk4 integrator\n",
    "\n",
    "def rk4(func, tk, yk, dt):\n",
    "    \n",
    "    f1 = func(tk, yk)\n",
    "    f2 = func(tk + dt / 2, yk + (f1 * (dt / 2)))\n",
    "    f3 = func(tk + dt / 2, yk + (f2 * (dt / 2)))\n",
    "    f4 = func(tk + dt, yk + (f3 * dt))\n",
    "\n",
    "    return yk + (dt / 6) * (f1 + (2 * f2) + (2 * f3) + f4)\n"
   ]
  },
  {
   "cell_type": "code",
   "execution_count": 199,
   "metadata": {},
   "outputs": [],
   "source": [
    "def trajectory_gen(time_now, present_state):\n",
    "    \n",
    "    x_present = [present_state[0],present_state[1]]\n",
    "    y_present = [present_state[2],present_state[3]]\n",
    "    z_present = [present_state[4],present_state[5]]\n",
    "    time = time_now\n",
    "    x_presentplusone = rk4(x_pos, time, x_present, time_step)\n",
    "    y_presentplusone = rk4(y_pos, time, y_present, time_step)\n",
    "    z_presentplusone = rk4(z_pos, time, z_present, time_step) \n",
    "    \n",
    "    present_state[0] = x_presentplusone[0];\n",
    "    present_state[1] = x_presentplusone[1];\n",
    "    present_state[2] = y_presentplusone[0];\n",
    "    present_state[3] = y_presentplusone[1];\n",
    "    present_state[4] = z_presentplusone[0];\n",
    "    present_state[5] = z_presentplusone[1];\n",
    "    \n",
    "    return present_state"
   ]
  },
  {
   "cell_type": "markdown",
   "metadata": {},
   "source": [
    "reference velocity"
   ]
  },
  {
   "cell_type": "code",
   "execution_count": 200,
   "metadata": {},
   "outputs": [],
   "source": [
    "def v_ref(present_state, quad_pos):\n",
    "    present_desired_pos = [present_state[0],present_state[2],present_state[4]]\n",
    "    p_d_dot = [present_state[1],present_state[3],present_state[5]]\n",
    "    error = np.subtract(quad_pos, present_desired_pos)\n",
    "    l = 5\n",
    "    v_ref = np.subtract(p_d_dot, l*(error))\n",
    "    return v_ref"
   ]
  },
  {
   "cell_type": "markdown",
   "metadata": {},
   "source": [
    "attitude desired"
   ]
  },
  {
   "cell_type": "code",
   "execution_count": 201,
   "metadata": {},
   "outputs": [],
   "source": [
    "def attitude_desired(present_state_derivative,q_d):\n",
    "    \n",
    "    X_bar = present_state_derivative[1]\n",
    "    Y_bar = present_state_derivative[3]\n",
    "    Z_bar = present_state_derivative[5] + 9.81\n",
    "    \n",
    "    Fd = np.sqrt((X_bar)**2 + (Y_bar)**2 + (Z_bar)**2)\n",
    "    \n",
    "    psi_d = 0\n",
    "    phi_d = np.arcsin(-Y_bar/Fd)\n",
    "    theta_d = np.arctan(X_bar/Z_bar)\n",
    "    \n",
    "    q_d[0] = theta_d\n",
    "    q_d[1] = phi_d\n",
    "    q_d[2] = psi_d\n",
    "    return q_d"
   ]
  },
  {
   "cell_type": "markdown",
   "metadata": {},
   "source": [
    "control block"
   ]
  },
  {
   "cell_type": "code",
   "execution_count": 202,
   "metadata": {},
   "outputs": [],
   "source": [
    "def control(wr, wr_dot, w, u):\n",
    "    \n",
    "    \n",
    "    cross = np.matmul(J,w)\n",
    "    cross_skew = np.array([[0, -cross[2] , cross[1]],[cross[2], 0 , -cross[1]],[-cross[2], cross[1],0]])\n",
    "\n",
    "    control_ip = np.matmul(J,wr_dot) - np.matmul(cross_skew,wr) - np.matmul(K,np.subtract(w , wr))\n",
    "    \n",
    "    u[0] = control_ip[0]\n",
    "    u[1] = control_ip[1]\n",
    "    u[2] = control_ip[2]\n",
    "    return u"
   ]
  },
  {
   "cell_type": "markdown",
   "metadata": {},
   "source": [
    "omega "
   ]
  },
  {
   "cell_type": "code",
   "execution_count": 203,
   "metadata": {},
   "outputs": [],
   "source": [
    "def omega(t,w):\n",
    "    \n",
    "    omega = w\n",
    "    control_ip = u\n",
    "    #print('omega')\n",
    "    #print(omega)\n",
    "    #print('u')\n",
    "    #print(control_ip)\n",
    "    cross = np.matmul(J,omega)\n",
    "    cross_skew = np.array([[0, -cross[2] , cross[1]],[cross[2], 0 , -cross[1]],[-cross[2], cross[1],0]])\n",
    "    dw = np.matmul(cross_skew , omega) + control_ip\n",
    "    return dw"
   ]
  },
  {
   "cell_type": "markdown",
   "metadata": {},
   "source": [
    "attitude q"
   ]
  },
  {
   "cell_type": "code",
   "execution_count": 204,
   "metadata": {},
   "outputs": [],
   "source": [
    "def attitude(tk,q):\n",
    "    \n",
    "    theta = q[0]\n",
    "    phi = q[1]\n",
    "    psi = q[2]\n",
    "    att = np.array([theta,phi,psi])\n",
    "    omega = np.array([w[0],w[1],w[2]])\n",
    "    Z_q = np.array([[1, np.sin(phi)*np.tan(theta), np.cos(phi)*np.tan(theta)],[0, np.cos(phi), -1*np.sin(phi)],[0, np.sin(phi)*(1/np.cos(theta)),np.cos(phi)*(1/np.cos(theta))]])\n",
    "    \n",
    "    dq = np.matmul(Z_q,omega)\n",
    "    dq = np.array([dq[0],dq[1],dq[2]])\n",
    "    return dq"
   ]
  },
  {
   "cell_type": "markdown",
   "metadata": {},
   "source": [
    "reference omega"
   ]
  },
  {
   "cell_type": "code",
   "execution_count": 205,
   "metadata": {},
   "outputs": [],
   "source": [
    "def ref_omega(q,q_d,q_ddot):\n",
    "    \n",
    "    theta = q[0]\n",
    "    phi = q[1]\n",
    "    psi = q[2]\n",
    "    att = np.array([theta,phi,psi])\n",
    "    omega_r = np.array([0,0,0])\n",
    "    Z_q = np.array([[1, np.sin(phi)*np.tan(theta), np.cos(phi)*np.tan(theta)],[0, np.cos(phi), -1*np.sin(phi)],[0, np.sin(phi)*(1/np.cos(theta)),np.cos(phi)*(1/np.cos(theta))]])\n",
    "    Z_q_inv = np.linalg.inv(Z_q)\n",
    "   \n",
    "    omega_r = np.matmul(Z_q_inv, q_ddot) + np.matmul(Z_q_inv, np.matmul(L,np.subtract(q_d,att)))\n",
    "    \n",
    "\n",
    "    return omega_r"
   ]
  },
  {
   "cell_type": "markdown",
   "metadata": {},
   "source": [
    "position dynamics"
   ]
  },
  {
   "cell_type": "code",
   "execution_count": 208,
   "metadata": {},
   "outputs": [],
   "source": [
    "def delay(time_delay):\n",
    "    count = 0\n",
    "    while (count<time_delay):\n",
    "        count = count+1"
   ]
  },
  {
   "cell_type": "code",
   "execution_count": 231,
   "metadata": {},
   "outputs": [],
   "source": [
    "initial_state = np.array([0.0,0.0,0.0,0.0,0.0,0.0]) #position and velocity\n",
    "present_state = initial_state\n",
    "prev_state = np.array([0.0,0.0,0.0,0.0,0.0,0.0])\n",
    "\n",
    "prev_qd = np.array([0.0,0.0,0.0]) #euler angles\n",
    "q_d = np.array([0.0,0.0,0.0]) #desired attitude\n",
    "q_state = np.array([0.0,0.0,0.0])\n",
    "q = np.array([0.0,0.0,0.0])\n",
    "\n",
    "w = np.array([0.0,0.0,0.0]) #omega\n",
    "wr = np.array([0.0,0.0,0.0])\n",
    "prev_wr = np.array([0.0,0.0,0.0])\n",
    "wr_dot = np.array([0.0,0.0,0.0])\n",
    "\n",
    "u = np.array([0.0,0.0,0.0])\n",
    "\n",
    "vr_prev = np.array([0.0,0.0,0.0])\n",
    "vr = np.array([0.0,0.0,0.0])\n",
    "quad_pos = np.array([0.0,0.0,0.0])\n",
    "quad_vel = np.array([0.0,0.0,0.0])\n",
    "acc_ip = np.array([0.0,0.0,0.0])\n",
    "\n",
    "quad_acc = np.array([0.0,0.0,0.0])\n",
    "tsp = np.array([0.0,0.0,0.0])\n",
    "pos = np.array([0.0,0.0,0.0])\n",
    "vel = np.array([0.0,0.0,0.0])\n",
    "quad_pos_state = np.zeros((600,3),dtype = np.float64)\n",
    "\n",
    "time_now = 0\n",
    "ele = 0\n",
    "while time_now < 30:\n",
    "    time_now = time_now + time_step\n",
    "    \n",
    "    prev_state = present_state\n",
    "    \n",
    "    #desired trajectory calculation/input from path planner\n",
    "    present_state = trajectory_gen(time_now, present_state)\n",
    "    present_state_derivative = np.subtract(present_state , prev_state)/time_step\n",
    "    vr = v_ref(present_state, quad_pos) \n",
    "    vr_dot = np.subtract(vr,vr_prev)/time_step\n",
    "    Kv = 0.125\n",
    "    acc_ip = -Kv*(np.subtract(quad_vel,vr)) + vr_dot\n",
    "    vr_prev = vr\n",
    "    \n",
    "    #finding desired attitude from the trajectory\n",
    "    prev_qd = q_d\n",
    "    #q_d = attitude_desired(quad_acc,q_d)\n",
    "    X_bar = acc_ip[0]\n",
    "    Y_bar = acc_ip[1]\n",
    "    Z_bar = acc_ip[2] + 9.81\n",
    "    \n",
    "    Fd = np.sqrt((X_bar)**2 + (Y_bar)**2 + (Z_bar)**2)\n",
    "    \n",
    "    psi_d = 0\n",
    "    phi_d = np.arcsin(-Y_bar/Fd)\n",
    "    theta_d = np.arctan(X_bar/Z_bar)\n",
    "    \n",
    "    q_d[0] = theta_d\n",
    "    q_d[1] = phi_d\n",
    "    q_d[2] = psi_d\n",
    "    tsp = [0.0,0.0,Fd]\n",
    "    \n",
    "    q_ddot = np.subtract(q_d , prev_qd)/time_step   \n",
    "    \n",
    "    #finding reference omega values\n",
    "    prev_wr = wr\n",
    "    wr = ref_omega(q,q_d,q_ddot)\n",
    "    wr_dot = np.subtract(wr,prev_wr)/time_step\n",
    "    \n",
    "    u = control(wr,wr_dot,w,u)\n",
    "    \n",
    "    w = rk4(omega,time_now,w,time_step)\n",
    "    \n",
    "    q = rk4(attitude,time_now,q,time_step) \n",
    "    theta = q[0]\n",
    "    phi = q[1]\n",
    "    psi = q[2]\n",
    "    Z_q = np.array([[1, np.sin(phi)*np.tan(theta), np.cos(phi)*np.tan(theta)],[0, np.cos(phi), -1*np.sin(phi)],[0, np.sin(phi)*(1/np.cos(theta)),np.cos(phi)*(1/np.cos(theta))]])\n",
    "    tf = [0.0,0.0,-9.81] + np.matmul(Z_q,tsp)\n",
    "    vel = vel + tf*time_step\n",
    "    quad_vel = vel\n",
    "    pos = pos + quad_vel*time_step\n",
    "    quad_pos = pos\n",
    "    \n",
    "    quad_pos_state[ele] = quad_pos\n",
    "    ele = ele + 1\n",
    "    "
   ]
  },
  {
   "cell_type": "code",
   "execution_count": 232,
   "metadata": {},
   "outputs": [
    {
     "data": {
      "image/png": "[encoded data removed]",
      "text/plain": [
       "<Figure size 640x480 with 1 Axes>"
      ]
     },
     "metadata": {},
     "output_type": "display_data"
    }
   ],
   "source": [
    "fig = plt.figure()\n",
    "ax = plt.axes(projection='3d')\n",
    "\n",
    "\n",
    "\n",
    "ax.set_xlabel('X')\n",
    "ax.set_ylabel('Y')\n",
    "ax.set_zlabel('Z')\n",
    "\n",
    "ax.plot3D(quad_pos_state[:,0],quad_pos_state[:,1],quad_pos_state[:,2])\n",
    "plt.show()"
   ]
  },
  {
   "cell_type": "code",
   "execution_count": 233,
   "metadata": {},
   "outputs": [
    {
     "name": "stdout",
     "output_type": "stream",
     "text": [
      "[[5.56151632e-04 2.71011010e-04 6.89044038e-03]\n",
      " [2.14387651e-03 1.04483485e-03 1.96094350e-02]\n",
      " [5.16630655e-03 2.51821869e-03 3.72006874e-02]\n",
      " ...\n",
      " [1.99715185e+00 9.98468134e-01 1.00836209e+00]\n",
      " [1.99716942e+00 9.98477585e-01 1.00831017e+00]\n",
      " [1.99718689e+00 9.98486979e-01 1.00825857e+00]]\n"
     ]
    }
   ],
   "source": [
    "print(quad_pos_state)"
   ]
  }
 ],
 "metadata": {
  "kernelspec": {
   "display_name": "Python 3 (ipykernel)",
   "language": "python",
   "name": "python3"
  },
  "language_info": {
   "codemirror_mode": {
    "name": "ipython",
    "version": 3
   },
   "file_extension": ".py",
   "mimetype": "text/x-python",
   "name": "python",
   "nbconvert_exporter": "python",
   "pygments_lexer": "ipython3",
   "version": "3.9.13"
  }
 },
 "nbformat": 4,
 "nbformat_minor": 4
}
