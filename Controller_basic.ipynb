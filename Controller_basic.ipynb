{
 "cells": [
  {
   "cell_type": "code",
   "execution_count": 69,
   "metadata": {},
   "outputs": [],
   "source": [
    "import numpy as np\n",
    "import math\n",
    "import matplotlib.pyplot as plt\n",
    "time_step = 0.03\n",
    "#currently tracks to point (2,1,1)\n",
    "J = np.array([[1.0,0.0,0.0],[0.0,1.0,0.0],[0.0,0.0,1.0]]) #inertia tensor\n",
    "L = np.array([[1.0,0.0,0.0],[0.0,1.0,0.0],[0.0,0.0,1.0]]) #lambda parameter\n",
    "K = 2*np.array([[1.0,0.0,0.0],[0.0,1.0,0.0],[0.0,0.0,1.0]]) #gain parameter"
   ]
  },
  {
   "cell_type": "markdown",
   "metadata": {},
   "source": [
    "position trajectory functions "
   ]
  },
  {
   "cell_type": "code",
   "execution_count": 50,
   "metadata": {},
   "outputs": [],
   "source": [
    "def x_pos(t,x):\n",
    "    return np.array([x[1], 4.0 - 3*x[1] - 2*x[0]])\n",
    "\n",
    "def y_pos(t,y):\n",
    "    return np.array([y[1], 2.0 - 3*y[1] - 2*y[0]])\n",
    "\n",
    "def z_pos(t,z):\n",
    "    return np.array([z[1], 2.0 - 3*z[1] - 2*z[0]])"
   ]
  },
  {
   "cell_type": "code",
   "execution_count": 51,
   "metadata": {},
   "outputs": [],
   "source": [
    "#rk4 integrator\n",
    "\n",
    "def rk4(func, tk, yk, dt):\n",
    "    \n",
    "    f1 = func(tk, yk)\n",
    "    f2 = func(tk + dt / 2, yk + (f1 * (dt / 2)))\n",
    "    f3 = func(tk + dt / 2, yk + (f2 * (dt / 2)))\n",
    "    f4 = func(tk + dt, yk + (f3 * dt))\n",
    "\n",
    "    return yk + (dt / 6) * (f1 + (2 * f2) + (2 * f3) + f4)\n"
   ]
  },
  {
   "cell_type": "code",
   "execution_count": 53,
   "metadata": {},
   "outputs": [],
   "source": [
    "def trajectory_gen(time_now, present_state):\n",
    "    \n",
    "    x_present = [present_state[0],present_state[1]]\n",
    "    y_present = [present_state[2],present_state[3]]\n",
    "    z_present = [present_state[4],present_state[5]]\n",
    "    time = time_now\n",
    "    x_presentplusone = rk4(x_pos, time, x_present, time_step)\n",
    "    y_presentplusone = rk4(y_pos, time, y_present, time_step)\n",
    "    z_presentplusone = rk4(z_pos, time, z_present, time_step) \n",
    "    \n",
    "    present_state[0] = x_presentplusone[0];\n",
    "    present_state[1] = x_presentplusone[1];\n",
    "    present_state[2] = y_presentplusone[0];\n",
    "    present_state[3] = y_presentplusone[1];\n",
    "    present_state[4] = z_presentplusone[0];\n",
    "    present_state[5] = z_presentplusone[1];\n",
    "    \n",
    "    return present_state"
   ]
  },
  {
   "cell_type": "markdown",
   "metadata": {},
   "source": [
    "attitude desired"
   ]
  },
  {
   "cell_type": "code",
   "execution_count": 54,
   "metadata": {},
   "outputs": [],
   "source": [
    "def attitude_desired(present_state_derivative,q_d):\n",
    "    \n",
    "    X_bar = present_state_derivative[1]\n",
    "    Y_bar = present_state_derivative[3]\n",
    "    Z_bar = present_state_derivative[5] + 9.81\n",
    "    \n",
    "    Fd = np.sqrt((X_bar)**2 + (Y_bar)**2 + (Z_bar)**2)\n",
    "    \n",
    "    psi_d = 0\n",
    "    phi_d = np.arcsin(-Y_bar/Fd)\n",
    "    theta_d = np.arctan(X_bar/Z_bar)\n",
    "    \n",
    "    q_d[0] = theta_d\n",
    "    q_d[1] = phi_d\n",
    "    q_d[2] = psi_d\n",
    "    return q_d"
   ]
  },
  {
   "cell_type": "markdown",
   "metadata": {},
   "source": [
    "control block"
   ]
  },
  {
   "cell_type": "code",
   "execution_count": 55,
   "metadata": {},
   "outputs": [],
   "source": [
    "def control(wr, wr_dot, w, u):\n",
    "    \n",
    "    \n",
    "    cross = np.matmul(J,w)\n",
    "    cross_skew = np.array([[0, -cross[2] , cross[1]],[cross[2], 0 , -cross[1]],[-cross[2], cross[1],0]])\n",
    "    \n",
    "    control_ip = np.matmul(J,wr_dot) - np.matmul(cross_skew,wr) - np.matmul(K,np.subtract(w , wr))\n",
    "    \n",
    "    u[0] = control_ip[0]\n",
    "    u[1] = control_ip[1]\n",
    "    u[2] = control_ip[2]\n",
    "    return u"
   ]
  },
  {
   "cell_type": "markdown",
   "metadata": {},
   "source": [
    "omega "
   ]
  },
  {
   "cell_type": "code",
   "execution_count": 56,
   "metadata": {},
   "outputs": [],
   "source": [
    "def omega(t,w):\n",
    "    \n",
    "    omega = np.array([w[0],w[1],w[2]])    \n",
    "    control_ip = np.array([u[0],u[1],u[2]])\n",
    "    #print('omega')\n",
    "    #print(omega)\n",
    "    #print('u')\n",
    "    #print(control_ip)\n",
    "    cross = np.matmul(J,omega)\n",
    "    cross_skew = np.array([[0, -cross[2] , cross[1]],[cross[2], 0 , -cross[1]],[-cross[2], cross[1],0]])\n",
    "    dw = np.matmul(cross_skew , omega) + control_ip\n",
    "    dw = np.array([dw[0],dw[1],dw[2]])\n",
    "    return dw"
   ]
  },
  {
   "cell_type": "markdown",
   "metadata": {},
   "source": [
    "attitude q"
   ]
  },
  {
   "cell_type": "code",
   "execution_count": 57,
   "metadata": {},
   "outputs": [],
   "source": [
    "def attitude(tk,q):\n",
    "    \n",
    "    theta = q[0]\n",
    "    phi = q[1]\n",
    "    psi = q[2]\n",
    "    att = np.array([theta,phi,psi])\n",
    "    omega = np.array([w[0],w[1],w[2]])\n",
    "    Z_q = np.array([[1, np.sin(phi)*np.tan(theta), np.cos(phi)*np.tan(theta)],[0, np.cos(phi), -1*np.sin(phi)],[0, np.sin(phi)*(1/np.cos(theta)),np.cos(phi)*(1/np.cos(theta))]])\n",
    "    \n",
    "    dq = np.matmul(Z_q,omega)\n",
    "    dq = np.array([dq[0],dq[1],dq[2]])\n",
    "    return dq"
   ]
  },
  {
   "cell_type": "markdown",
   "metadata": {},
   "source": [
    "reference omega"
   ]
  },
  {
   "cell_type": "code",
   "execution_count": 58,
   "metadata": {},
   "outputs": [],
   "source": [
    "def ref_omega(q,q_d,q_ddot):\n",
    "    \n",
    "    theta = q[0]\n",
    "    phi = q[1]\n",
    "    psi = q[2]\n",
    "    att = np.array([theta,phi,psi])\n",
    "    omega_r = np.array([0,0,0])\n",
    "    Z_q = np.array([[1, np.sin(phi)*np.tan(theta), np.cos(phi)*np.tan(theta)],[0, np.cos(phi), -1*np.sin(phi)],[0, np.sin(phi)*(1/np.cos(theta)),np.cos(phi)*(1/np.cos(theta))]])\n",
    "    Z_q_inv = np.linalg.inv(Z_q)\n",
    "   \n",
    "    omega_r = np.matmul(Z_q_inv, q_ddot) + np.matmul(Z_q_inv, np.matmul(L,np.subtract(q_d,att)))\n",
    "    \n",
    "\n",
    "    return omega_r"
   ]
  },
  {
   "cell_type": "code",
   "execution_count": 59,
   "metadata": {},
   "outputs": [],
   "source": [
    "def delay(time_delay):\n",
    "    count = 0\n",
    "    while (count<time_delay):\n",
    "        count = count+1"
   ]
  },
  {
   "cell_type": "code",
   "execution_count": 71,
   "metadata": {},
   "outputs": [],
   "source": [
    "initial_state = np.array([0.0,0.0,0.0,0.0,0.0,0.0])\n",
    "present_state = initial_state\n",
    "prev_state = np.array([0.0,0.0,0.0,0.0,0.0,0.0])\n",
    "prev_qd = np.array([0.0,0.0,0.0]) \n",
    "q_d = np.array([0.0,0.0,0.0])#desired attitude\n",
    "q_state = np.array([0.0,0.0,0.0])\n",
    "w = np.array([0.0,0.0,0.0]) #omega\n",
    "q = np.array([0.0,0.0,0.0])\n",
    "wr = np.array([0.0,0.0,0.0])\n",
    "prev_wr = np.array([0.0,0.0,0.0])\n",
    "wr_dot = np.array([0.0,0.0,0.0])\n",
    "u = np.array([0.0,0.0,0.0])\n",
    "\n",
    "time_now = 0\n",
    "while time_now < 30:\n",
    "    time_now = time_now + time_step\n",
    "    #print(present_state) \n",
    "    #print(present_state)\n",
    "    \n",
    "    prev_state[0] = present_state[0]\n",
    "    prev_state[1] = present_state[1]\n",
    "    prev_state[2] = present_state[2]\n",
    "    prev_state[3] = present_state[3]\n",
    "    prev_state[4] = present_state[4]\n",
    "    prev_state[5] = present_state[5]\n",
    "    \n",
    "    present_state = trajectory_gen(time_now, present_state)\n",
    "    present_state_derivative = np.subtract(present_state , prev_state)/time_step\n",
    "\n",
    "    #print(present_state_derivative)\n",
    "    prev_qd[0] = q_d[0]\n",
    "    prev_qd[1] = q_d[1]\n",
    "    prev_qd[2] = q_d[2]\n",
    "    q_d = attitude_desired(present_state_derivative,q_d)\n",
    "    \n",
    "    q_ddot = np.subtract(q_d , prev_qd)/time_step   \n",
    "\n",
    "    prev_wr = wr\n",
    "    wr = ref_omega(q,q_d,q_ddot)\n",
    "    \n",
    "    wr_dot = np.subtract(wr,prev_wr)/time_step\n",
    "    \n",
    "    u = control(wr,wr_dot,w,u)\n",
    "    \n",
    "    w_state = np.array([w[0],w[1],w[2]])\n",
    "    w_state = rk4(omega,time_now,w_state,time_step)\n",
    "    w = [w_state[0],w_state[1],w_state[2]]\n",
    "    \n",
    "    q_state = rk4(attitude,time_now,q_state,time_step) \n",
    "    q = np.array([q_state[0],q_state[1],q_state[2]])\n",
    "    \n",
    "    "
   ]
  }
 ],
 "metadata": {
  "kernelspec": {
   "display_name": "Python 3",
   "language": "python",
   "name": "python3"
  },
  "language_info": {
   "codemirror_mode": {
    "name": "ipython",
    "version": 3
   },
   "file_extension": ".py",
   "mimetype": "text/x-python",
   "name": "python",
   "nbconvert_exporter": "python",
   "pygments_lexer": "ipython3",
   "version": "3.8.5"
  }
 },
 "nbformat": 4,
 "nbformat_minor": 4
}
